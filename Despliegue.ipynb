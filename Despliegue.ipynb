{
 "cells": [
  {
   "cell_type": "markdown",
   "id": "60d08465",
   "metadata": {},
   "source": [
    "# Despliegue"
   ]
  },
  {
   "cell_type": "markdown",
   "id": "4768717a",
   "metadata": {},
   "source": [
    "## Importar data"
   ]
  },
  {
   "cell_type": "code",
   "execution_count": 8,
   "id": "94db1f41",
   "metadata": {},
   "outputs": [
    {
     "data": {
      "text/html": [
       "<div>\n",
       "<style scoped>\n",
       "    .dataframe tbody tr th:only-of-type {\n",
       "        vertical-align: middle;\n",
       "    }\n",
       "\n",
       "    .dataframe tbody tr th {\n",
       "        vertical-align: top;\n",
       "    }\n",
       "\n",
       "    .dataframe thead th {\n",
       "        text-align: right;\n",
       "    }\n",
       "</style>\n",
       "<table border=\"1\" class=\"dataframe\">\n",
       "  <thead>\n",
       "    <tr style=\"text-align: right;\">\n",
       "      <th></th>\n",
       "      <th>DISTRITO</th>\n",
       "      <th>TIPO PERSONA</th>\n",
       "      <th>EDAD</th>\n",
       "      <th>SEXO</th>\n",
       "      <th>VEHÍCULO</th>\n",
       "      <th>DIA</th>\n",
       "      <th>HORA</th>\n",
       "      <th>TIPO DE VÍA</th>\n",
       "      <th>ZONIFICACIÓN</th>\n",
       "      <th>CARACTERÍSTICAS DE VÍA</th>\n",
       "      <th>ESTADO MODALIDAD</th>\n",
       "      <th>POSEE LICENCIA</th>\n",
       "    </tr>\n",
       "  </thead>\n",
       "  <tbody>\n",
       "    <tr>\n",
       "      <th>0</th>\n",
       "      <td>SANTA CRUZ DE ANDAMARCA</td>\n",
       "      <td>NO CONDUCTOR</td>\n",
       "      <td>73</td>\n",
       "      <td>FEMENINO</td>\n",
       "      <td>AUTOMÓVIL</td>\n",
       "      <td>MARTES</td>\n",
       "      <td>6</td>\n",
       "      <td>AVENIDA</td>\n",
       "      <td>COMERCIAL</td>\n",
       "      <td>INTERSECCIÓN</td>\n",
       "      <td>NO CORRESPONDE</td>\n",
       "      <td>1</td>\n",
       "    </tr>\n",
       "    <tr>\n",
       "      <th>1</th>\n",
       "      <td>HUARAL</td>\n",
       "      <td>NO CONDUCTOR</td>\n",
       "      <td>95</td>\n",
       "      <td>MASCULINO</td>\n",
       "      <td>MOTOCICLETA</td>\n",
       "      <td>SÁBADO</td>\n",
       "      <td>12</td>\n",
       "      <td>AVENIDA</td>\n",
       "      <td>INDUSTRIAL</td>\n",
       "      <td>INTERSECCIÓN</td>\n",
       "      <td>NO CORRESPONDE</td>\n",
       "      <td>1</td>\n",
       "    </tr>\n",
       "    <tr>\n",
       "      <th>2</th>\n",
       "      <td>LIMA</td>\n",
       "      <td>PEATÓN</td>\n",
       "      <td>88</td>\n",
       "      <td>FEMENINO</td>\n",
       "      <td>CAMIÓN</td>\n",
       "      <td>DOMINGO</td>\n",
       "      <td>5</td>\n",
       "      <td>OTRO</td>\n",
       "      <td>INDUSTRIAL</td>\n",
       "      <td>INTERSECCIÓN</td>\n",
       "      <td>NO HABILITADO</td>\n",
       "      <td>0</td>\n",
       "    </tr>\n",
       "    <tr>\n",
       "      <th>3</th>\n",
       "      <td>CHECRAS</td>\n",
       "      <td>NO CONDUCTOR</td>\n",
       "      <td>6</td>\n",
       "      <td>MASCULINO</td>\n",
       "      <td>CAMIÓN</td>\n",
       "      <td>MARTES</td>\n",
       "      <td>19</td>\n",
       "      <td>OTRO</td>\n",
       "      <td>COMERCIAL</td>\n",
       "      <td>TRAMO RECTO</td>\n",
       "      <td>NO CORRESPONDE</td>\n",
       "      <td>1</td>\n",
       "    </tr>\n",
       "    <tr>\n",
       "      <th>4</th>\n",
       "      <td>ATAVILLOS ALTO</td>\n",
       "      <td>PEATÓN</td>\n",
       "      <td>70</td>\n",
       "      <td>FEMENINO</td>\n",
       "      <td>CAMIONETA RURAL</td>\n",
       "      <td>DOMINGO</td>\n",
       "      <td>11</td>\n",
       "      <td>AVENIDA</td>\n",
       "      <td>RURAL</td>\n",
       "      <td>OTRO</td>\n",
       "      <td>NO HABILITADO</td>\n",
       "      <td>1</td>\n",
       "    </tr>\n",
       "  </tbody>\n",
       "</table>\n",
       "</div>"
      ],
      "text/plain": [
       "                  DISTRITO  TIPO PERSONA  EDAD       SEXO         VEHÍCULO  \\\n",
       "0  SANTA CRUZ DE ANDAMARCA  NO CONDUCTOR    73   FEMENINO        AUTOMÓVIL   \n",
       "1                   HUARAL  NO CONDUCTOR    95  MASCULINO      MOTOCICLETA   \n",
       "2                     LIMA        PEATÓN    88   FEMENINO           CAMIÓN   \n",
       "3                  CHECRAS  NO CONDUCTOR     6  MASCULINO           CAMIÓN   \n",
       "4           ATAVILLOS ALTO        PEATÓN    70   FEMENINO  CAMIONETA RURAL   \n",
       "\n",
       "       DIA  HORA TIPO DE VÍA ZONIFICACIÓN CARACTERÍSTICAS DE VÍA  \\\n",
       "0   MARTES     6     AVENIDA    COMERCIAL           INTERSECCIÓN   \n",
       "1   SÁBADO    12     AVENIDA   INDUSTRIAL           INTERSECCIÓN   \n",
       "2  DOMINGO     5        OTRO   INDUSTRIAL           INTERSECCIÓN   \n",
       "3   MARTES    19        OTRO    COMERCIAL            TRAMO RECTO   \n",
       "4  DOMINGO    11     AVENIDA        RURAL                   OTRO   \n",
       "\n",
       "  ESTADO MODALIDAD  POSEE LICENCIA  \n",
       "0   NO CORRESPONDE               1  \n",
       "1   NO CORRESPONDE               1  \n",
       "2    NO HABILITADO               0  \n",
       "3   NO CORRESPONDE               1  \n",
       "4    NO HABILITADO               1  "
      ]
     },
     "execution_count": 8,
     "metadata": {},
     "output_type": "execute_result"
    }
   ],
   "source": [
    "import pandas as pd\n",
    "data_pred = pd.read_csv('data_random.csv', sep = ',')\n",
    "data_pred.head()"
   ]
  },
  {
   "cell_type": "code",
   "execution_count": 12,
   "id": "7819e089",
   "metadata": {},
   "outputs": [],
   "source": [
    "data_pred['SEXO'] = data_pred['SEXO'].map({'MASCULINO': 1, 'FEMENINO': 0})"
   ]
  },
  {
   "cell_type": "markdown",
   "id": "3b528a8e",
   "metadata": {},
   "source": [
    "## Cargar modelo"
   ]
  },
  {
   "cell_type": "code",
   "execution_count": 13,
   "id": "6aa33d1f",
   "metadata": {},
   "outputs": [],
   "source": [
    "import joblib\n",
    "\n",
    "modelo = joblib.load(\"modelo_final_rf.pkl\")"
   ]
  },
  {
   "cell_type": "markdown",
   "id": "593fe478",
   "metadata": {},
   "source": [
    "## Aplicar Modelo"
   ]
  },
  {
   "cell_type": "code",
   "execution_count": 14,
   "id": "8ad97808",
   "metadata": {},
   "outputs": [
    {
     "name": "stderr",
     "output_type": "stream",
     "text": [
      "c:\\Users\\LENOVO\\anaconda3\\Lib\\site-packages\\sklearn\\preprocessing\\_encoders.py:202: UserWarning: Found unknown categories in columns [0] during transform. These unknown categories will be encoded as all zeros\n",
      "  warnings.warn(\n"
     ]
    }
   ],
   "source": [
    "data_pred[\"PREDICCION_GRAVEDAD\"] = modelo.predict(data_pred)"
   ]
  },
  {
   "cell_type": "markdown",
   "id": "b735c4f4",
   "metadata": {},
   "source": [
    "## Importar data predicha"
   ]
  },
  {
   "cell_type": "code",
   "execution_count": 16,
   "id": "a7ea86fd",
   "metadata": {},
   "outputs": [],
   "source": [
    "data_pred.to_csv(\"predicciones.csv\", index=False)"
   ]
  }
 ],
 "metadata": {
  "kernelspec": {
   "display_name": "base",
   "language": "python",
   "name": "python3"
  },
  "language_info": {
   "codemirror_mode": {
    "name": "ipython",
    "version": 3
   },
   "file_extension": ".py",
   "mimetype": "text/x-python",
   "name": "python",
   "nbconvert_exporter": "python",
   "pygments_lexer": "ipython3",
   "version": "3.11.7"
  }
 },
 "nbformat": 4,
 "nbformat_minor": 5
}
